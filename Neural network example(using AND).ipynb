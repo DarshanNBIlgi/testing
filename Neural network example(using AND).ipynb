{
  "nbformat": 4,
  "nbformat_minor": 0,
  "metadata": {
    "colab": {
      "name": "Untitled2.ipynb",
      "provenance": [],
      "authorship_tag": "ABX9TyOQCrHAlJNvXSRGaQTOd9Am",
      "include_colab_link": true
    },
    "kernelspec": {
      "name": "python3",
      "display_name": "Python 3"
    }
  },
  "cells": [
    {
      "cell_type": "markdown",
      "metadata": {
        "id": "view-in-github",
        "colab_type": "text"
      },
      "source": [
        "<a href=\"https://colab.research.google.com/github/DarshanNBIlgi/testing/blob/master/Neural%20network%20example(using%20AND).ipynb\" target=\"_parent\"><img src=\"https://colab.research.google.com/assets/colab-badge.svg\" alt=\"Open In Colab\"/></a>"
      ]
    },
    {
      "cell_type": "code",
      "metadata": {
        "id": "DvXez7nkBjfz",
        "colab_type": "code",
        "colab": {}
      },
      "source": [
        "import numpy as np\n",
        "import pandas as pd\n",
        "import matplotlib.pyplot as plt\n",
        "\n",
        "from sklearn.model_selection import train_test_split\n",
        "\n",
        "%matplotlib inline"
      ],
      "execution_count": 1,
      "outputs": []
    },
    {
      "cell_type": "code",
      "metadata": {
        "id": "6ZTs1AzdBnVe",
        "colab_type": "code",
        "colab": {}
      },
      "source": [
        "input_data = np.array([[0,0,0],\n",
        "                       [0,1,0],\n",
        "                       [0,0,1],\n",
        "                       [1,1,0],\n",
        "                       [1,0,1],\n",
        "                       [1,1,1]])"
      ],
      "execution_count": 2,
      "outputs": []
    },
    {
      "cell_type": "code",
      "metadata": {
        "id": "vk-kgEYxB1MA",
        "colab_type": "code",
        "colab": {}
      },
      "source": [
        "output_data = np.array([[0],\n",
        "                        [0],\n",
        "                        [0],\n",
        "                        [0],\n",
        "                        [0],\n",
        "                        [1]])"
      ],
      "execution_count": 3,
      "outputs": []
    },
    {
      "cell_type": "code",
      "metadata": {
        "id": "UZsJVTkRB-fl",
        "colab_type": "code",
        "colab": {}
      },
      "source": [
        "def sigmoid(x):\n",
        "  return (1)/(1 + np.exp(-x))\n",
        "  "
      ],
      "execution_count": 4,
      "outputs": []
    },
    {
      "cell_type": "code",
      "metadata": {
        "id": "b-khouxUCC1B",
        "colab_type": "code",
        "colab": {}
      },
      "source": [
        "def dsigmoid(x):\n",
        "  return x*(1-x)\n",
        "  "
      ],
      "execution_count": 5,
      "outputs": []
    },
    {
      "cell_type": "code",
      "metadata": {
        "id": "BIWk7atTCRTT",
        "colab_type": "code",
        "colab": {}
      },
      "source": [
        "np.random.seed(1)\n",
        "w0 = np.random.random((3,2))-1\n",
        "w1 = np.random.random((2,1))-1\n",
        "\n",
        "b0 = np.random.random((1,1))-1\n",
        "b1 = np.random.random((1,1))-1"
      ],
      "execution_count": 6,
      "outputs": []
    },
    {
      "cell_type": "code",
      "metadata": {
        "id": "GrlKTwgLCSLY",
        "colab_type": "code",
        "colab": {}
      },
      "source": [
        "def feed_forward(data_in, w0,w1,b0,b1):\n",
        "  layer0 = data_in\n",
        "  layer1 = sigmoid(np.dot(layer0,w0)+b0)\n",
        "  layer2 = sigmoid(np.dot(layer1,w1)+b1)\n",
        "\n",
        "  return layer0,layer1,layer2\n"
      ],
      "execution_count": 7,
      "outputs": []
    },
    {
      "cell_type": "code",
      "metadata": {
        "id": "mvRs3z-NCYI2",
        "colab_type": "code",
        "colab": {}
      },
      "source": [
        "def back_propogation(layer0,layer1,layer2,actual_y,w0,w1,b0,b1,learning_rate,i):\n",
        "    \n",
        "    l2_error = layer2 - actual_y\n",
        "    l2_delta = l2_error * dsigmoid(layer2)\n",
        "    dh2 = np.dot(layer1.T,l2_delta)\n",
        "\n",
        "    l1_error = np.dot(l2_delta, w1.T)\n",
        "    l1_delta = l1_error *dsigmoid(layer1)\n",
        "    dh1 = np.dot(layer0.T, l1_delta)\n",
        "\n",
        "    w1 = w1 - (learning_rate *dh2)\n",
        "    w0 = w0 - (learning_rate * dh1)\n",
        "\n",
        "    b1=b1 - (learning_rate * np.mean(l2_delta))\n",
        "    b0=b0 - (learning_rate * np.mean(l1_delta))\n",
        "    \n",
        "    if i%1 ==0 and (i!=0):\n",
        "        loss=np.mean(np.power(layer2 - actual_y,2))\n",
        "        loss_curve.append(loss)\n",
        "        iters.append(int(i))\n",
        "        \n",
        "        if i%100==0:\n",
        "            print('\\n',int(i),loss)\n",
        "    return w0,w1,b1,b0"
      ],
      "execution_count": 8,
      "outputs": []
    },
    {
      "cell_type": "code",
      "metadata": {
        "id": "CKmi4l0zCix3",
        "colab_type": "code",
        "colab": {}
      },
      "source": [
        "def accuracy(testx,testy):\n",
        "  correct = 0\n",
        "  layer0, layer1, layer2 = feed_forward(testx,w0,w1,b0,b1)\n",
        "  for i in range(len(testx)):\n",
        "    if np.argmax(layer2[i])==np.argmax(testy[1]):\n",
        "      correct +=1\n",
        "  return f\"Accuracy: {correct *100/ len(testy)}\""
      ],
      "execution_count": 9,
      "outputs": []
    },
    {
      "cell_type": "code",
      "metadata": {
        "id": "GEp9lHZdCnmS",
        "colab_type": "code",
        "colab": {}
      },
      "source": [
        "epochs = 10\n",
        "loss_curve = []\n",
        "iters = []\n"
      ],
      "execution_count": 10,
      "outputs": []
    },
    {
      "cell_type": "code",
      "metadata": {
        "id": "_8qxHMWtCrq2",
        "colab_type": "code",
        "colab": {}
      },
      "source": [
        "for i in range(epochs):\n",
        "  layer0,layer1, layer2 = feed_forward(input_data, w0,w1, b0,b1)\n",
        "  w0,w1,b0,b1 = back_propogation(layer0,layer1,layer2, output_data, w0,w1,b0,b1,0.01,i)"
      ],
      "execution_count": 11,
      "outputs": []
    },
    {
      "cell_type": "code",
      "metadata": {
        "id": "Djq8hTyaCvST",
        "colab_type": "code",
        "colab": {
          "base_uri": "https://localhost:8080/",
          "height": 282
        },
        "outputId": "996b8883-c002-48ea-ad51-d8760a2e78db"
      },
      "source": [
        "plt.plot(iters,loss_curve)"
      ],
      "execution_count": 12,
      "outputs": [
        {
          "output_type": "execute_result",
          "data": {
            "text/plain": [
              "[<matplotlib.lines.Line2D at 0x7f142d4489e8>]"
            ]
          },
          "metadata": {
            "tags": []
          },
          "execution_count": 12
        },
        {
          "output_type": "display_data",
          "data": {
            "image/png": "[encoded data removed]",
            "text/plain": [
              "<Figure size 432x288 with 1 Axes>"
            ]
          },
          "metadata": {
            "tags": [],
            "needs_background": "light"
          }
        }
      ]
    },
    {
      "cell_type": "code",
      "metadata": {
        "id": "vxYjFKNICyn-",
        "colab_type": "code",
        "colab": {
          "base_uri": "https://localhost:8080/",
          "height": 35
        },
        "outputId": "a8f4c3c4-7eab-476a-d55b-454ef3a893a5"
      },
      "source": [
        "accuracy(input_data, output_data)"
      ],
      "execution_count": 13,
      "outputs": [
        {
          "output_type": "execute_result",
          "data": {
            "application/vnd.google.colaboratory.intrinsic+json": {
              "type": "string"
            },
            "text/plain": [
              "'Accuracy: 100.0'"
            ]
          },
          "metadata": {
            "tags": []
          },
          "execution_count": 13
        }
      ]
    },
    {
      "cell_type": "code",
      "metadata": {
        "id": "z4mJO8yhC34V",
        "colab_type": "code",
        "colab": {}
      },
      "source": [
        ""
      ],
      "execution_count": null,
      "outputs": []
    }
  ]
}